{
 "cells": [
  {
   "cell_type": "code",
   "execution_count": 3,
   "id": "693ed2cd",
   "metadata": {},
   "outputs": [],
   "source": [
    "import pandas as pd\n",
    "import matplotlib.pyplot as plt\n",
    "import numpy as np\n",
    "from sklearn.metrics import f1_score\n",
    "from sklearn.linear_model import LogisticRegression\n",
    "from sklearn.model_selection import cross_val_score, cross_val_predict"
   ]
  },
  {
   "cell_type": "code",
   "execution_count": 4,
   "id": "43d85417",
   "metadata": {},
   "outputs": [],
   "source": [
    "example_submit = pd.read_csv('data/HeadHunter_sample_submit.csv')\n",
    "train = pd.read_csv('data/HeadHunter_train.csv')\n",
    "test = pd.read_csv('data/HeadHunter_test.csv')"
   ]
  },
  {
   "cell_type": "code",
   "execution_count": 7,
   "id": "fa10a5d4",
   "metadata": {},
   "outputs": [
    {
     "name": "stderr",
     "output_type": "stream",
     "text": [
      "[nltk_data] Downloading package punkt to /home/ivan/nltk_data...\n",
      "[nltk_data]   Unzipping tokenizers/punkt.zip.\n"
     ]
    }
   ],
   "source": [
    "import nltk\n",
    "import pymorphy2\n",
    "\n",
    "nltk.download('punkt')\n",
    "# probability score threshold\n",
    "prob_thresh = 0.9\n",
    "morph = pymorphy2.MorphAnalyzer()\n",
    "\n",
    "def has_name(text):\n",
    "    text = str(text)\n",
    "    for word in nltk.word_tokenize(text):\n",
    "        for p in morph.parse(word):\n",
    "            if 'Name' in p.tag and p.score >= prob_thresh:\n",
    "                return 1\n",
    "    return 0"
   ]
  },
  {
   "cell_type": "code",
   "execution_count": 8,
   "id": "a01e9499",
   "metadata": {},
   "outputs": [],
   "source": [
    "train['pos_has_name'] = train.positive.apply(has_name)\n",
    "train['neg_has_name'] = train.negative.apply(has_name)\n",
    "\n",
    "test['pos_has_name'] = test.positive.apply(has_name)\n",
    "test['neg_has_name'] = test.negative.apply(has_name)"
   ]
  },
  {
   "cell_type": "code",
   "execution_count": 12,
   "id": "23394f48",
   "metadata": {},
   "outputs": [
    {
     "data": {
      "text/html": [
       "<div>\n",
       "<style scoped>\n",
       "    .dataframe tbody tr th:only-of-type {\n",
       "        vertical-align: middle;\n",
       "    }\n",
       "\n",
       "    .dataframe tbody tr th {\n",
       "        vertical-align: top;\n",
       "    }\n",
       "\n",
       "    .dataframe thead th {\n",
       "        text-align: right;\n",
       "    }\n",
       "</style>\n",
       "<table border=\"1\" class=\"dataframe\">\n",
       "  <thead>\n",
       "    <tr style=\"text-align: right;\">\n",
       "      <th></th>\n",
       "      <th>review_id</th>\n",
       "      <th>city</th>\n",
       "      <th>position</th>\n",
       "      <th>positive</th>\n",
       "      <th>negative</th>\n",
       "      <th>salary_rating</th>\n",
       "      <th>team_rating</th>\n",
       "      <th>managment_rating</th>\n",
       "      <th>career_rating</th>\n",
       "      <th>workplace_rating</th>\n",
       "      <th>rest_recovery_rating</th>\n",
       "      <th>target</th>\n",
       "      <th>pos_has_name</th>\n",
       "      <th>neg_has_name</th>\n",
       "    </tr>\n",
       "  </thead>\n",
       "  <tbody>\n",
       "    <tr>\n",
       "      <th>35574</th>\n",
       "      <td>135370</td>\n",
       "      <td>Москва</td>\n",
       "      <td>Специалист по работе с клиентами</td>\n",
       "      <td>Надёжность. Честность.</td>\n",
       "      <td>Не знаю. Обучение. Больше ролевок.</td>\n",
       "      <td>4</td>\n",
       "      <td>5</td>\n",
       "      <td>4</td>\n",
       "      <td>3</td>\n",
       "      <td>5</td>\n",
       "      <td>4</td>\n",
       "      <td>0</td>\n",
       "      <td>0</td>\n",
       "      <td>0</td>\n",
       "    </tr>\n",
       "    <tr>\n",
       "      <th>24232</th>\n",
       "      <td>91943</td>\n",
       "      <td>Киев</td>\n",
       "      <td>Оператор</td>\n",
       "      <td>Начинал свою карьеру на заводе с грузчика, пот...</td>\n",
       "      <td>нет</td>\n",
       "      <td>5</td>\n",
       "      <td>5</td>\n",
       "      <td>5</td>\n",
       "      <td>5</td>\n",
       "      <td>5</td>\n",
       "      <td>5</td>\n",
       "      <td>0</td>\n",
       "      <td>0</td>\n",
       "      <td>0</td>\n",
       "    </tr>\n",
       "    <tr>\n",
       "      <th>50057</th>\n",
       "      <td>189770</td>\n",
       "      <td>Хабаровск</td>\n",
       "      <td>Старший инструктор, педагог</td>\n",
       "      <td>Близость к работе, система отпусков</td>\n",
       "      <td>Техническое обеспечение рабочего места</td>\n",
       "      <td>5</td>\n",
       "      <td>5</td>\n",
       "      <td>5</td>\n",
       "      <td>5</td>\n",
       "      <td>5</td>\n",
       "      <td>5</td>\n",
       "      <td>8</td>\n",
       "      <td>0</td>\n",
       "      <td>0</td>\n",
       "    </tr>\n",
       "    <tr>\n",
       "      <th>17096</th>\n",
       "      <td>64534</td>\n",
       "      <td>Москва</td>\n",
       "      <td>Работник зала</td>\n",
       "      <td>берут абсолютно всех, без разбора, кто получше...</td>\n",
       "      <td>никому не советую побывать в этой эмоционально...</td>\n",
       "      <td>1</td>\n",
       "      <td>3</td>\n",
       "      <td>1</td>\n",
       "      <td>2</td>\n",
       "      <td>2</td>\n",
       "      <td>2</td>\n",
       "      <td>8</td>\n",
       "      <td>0</td>\n",
       "      <td>0</td>\n",
       "    </tr>\n",
       "    <tr>\n",
       "      <th>30269</th>\n",
       "      <td>115317</td>\n",
       "      <td>Екатеринбург</td>\n",
       "      <td>Менеджер по продажам оборудования</td>\n",
       "      <td>Дмс и всякие плюшки, зп вся белая. Карьерный р...</td>\n",
       "      <td>Поднять зарплаты. Компания большая и деньги ес...</td>\n",
       "      <td>2</td>\n",
       "      <td>5</td>\n",
       "      <td>2</td>\n",
       "      <td>2</td>\n",
       "      <td>5</td>\n",
       "      <td>3</td>\n",
       "      <td>8</td>\n",
       "      <td>0</td>\n",
       "      <td>0</td>\n",
       "    </tr>\n",
       "  </tbody>\n",
       "</table>\n",
       "</div>"
      ],
      "text/plain": [
       "       review_id          city                           position  \\\n",
       "35574     135370        Москва   Специалист по работе с клиентами   \n",
       "24232      91943          Киев                           Оператор   \n",
       "50057     189770     Хабаровск        Старший инструктор, педагог   \n",
       "17096      64534        Москва                      Работник зала   \n",
       "30269     115317  Екатеринбург  Менеджер по продажам оборудования   \n",
       "\n",
       "                                                positive  \\\n",
       "35574                             Надёжность. Честность.   \n",
       "24232  Начинал свою карьеру на заводе с грузчика, пот...   \n",
       "50057                Близость к работе, система отпусков   \n",
       "17096  берут абсолютно всех, без разбора, кто получше...   \n",
       "30269  Дмс и всякие плюшки, зп вся белая. Карьерный р...   \n",
       "\n",
       "                                                negative  salary_rating  \\\n",
       "35574                 Не знаю. Обучение. Больше ролевок.              4   \n",
       "24232                                                нет              5   \n",
       "50057             Техническое обеспечение рабочего места              5   \n",
       "17096  никому не советую побывать в этой эмоционально...              1   \n",
       "30269  Поднять зарплаты. Компания большая и деньги ес...              2   \n",
       "\n",
       "       team_rating  managment_rating  career_rating  workplace_rating  \\\n",
       "35574            5                 4              3                 5   \n",
       "24232            5                 5              5                 5   \n",
       "50057            5                 5              5                 5   \n",
       "17096            3                 1              2                 2   \n",
       "30269            5                 2              2                 5   \n",
       "\n",
       "       rest_recovery_rating target  pos_has_name  neg_has_name  \n",
       "35574                     4      0             0             0  \n",
       "24232                     5      0             0             0  \n",
       "50057                     5      8             0             0  \n",
       "17096                     2      8             0             0  \n",
       "30269                     3      8             0             0  "
      ]
     },
     "execution_count": 12,
     "metadata": {},
     "output_type": "execute_result"
    }
   ],
   "source": [
    "train.sample(5)"
   ]
  },
  {
   "cell_type": "code",
   "execution_count": 14,
   "id": "4739e2ff",
   "metadata": {},
   "outputs": [
    {
     "name": "stderr",
     "output_type": "stream",
     "text": [
      "[nltk_data] Downloading package stopwords to /home/ivan/nltk_data...\n",
      "[nltk_data]   Unzipping corpora/stopwords.zip.\n",
      "Installing mystem to /home/ivan/.local/bin/mystem from http://download.cdn.yandex.net/mystem/mystem-3.1-linux-64bit.tar.gz\n"
     ]
    }
   ],
   "source": [
    "import nltk\n",
    "nltk.download(\"stopwords\")\n",
    "\n",
    "from nltk.corpus import stopwords\n",
    "from pymystem3 import Mystem\n",
    "from string import punctuation\n",
    "import re\n",
    "\n",
    "mystem = Mystem() \n",
    "russian_stopwords = stopwords.words(\"russian\")\n",
    "\n",
    "def preprocess_text(text):\n",
    "    text = str(text)\n",
    "    text = re.sub('[0-9]+', 'num', text)\n",
    "    text = text.replace('******', 'компания')\n",
    "    tokens = mystem.lemmatize(text.lower())\n",
    "    tokens = [token for token in tokens if token not in russian_stopwords\\\n",
    "              and token != \" \" \\\n",
    "              and token.strip() not in punctuation]\n",
    "    \n",
    "    text = \" \".join(tokens)\n",
    "    \n",
    "    return text"
   ]
  },
  {
   "cell_type": "code",
   "execution_count": 15,
   "id": "c9adb421",
   "metadata": {},
   "outputs": [],
   "source": [
    "train.positive = train.positive.apply(preprocess_text)\n",
    "train.negative = train.negative.apply(preprocess_text)\n",
    "\n",
    "test.positive = test.positive.apply(preprocess_text)\n",
    "test.negative = test.negative.apply(preprocess_text)\n",
    "\n",
    "train.position = train.position.apply(preprocess_text)\n",
    "test.position = test.position.apply(preprocess_text)"
   ]
  },
  {
   "cell_type": "code",
   "execution_count": null,
   "id": "e861ba36",
   "metadata": {},
   "outputs": [],
   "source": [
    "from spellchecker import SpellChecker\n",
    "\n",
    "spell = SpellChecker(distance=1, language='ru')\n",
    "\n",
    "def correct_spelling(word):\n",
    "    return spell.correction(word)\n",
    "\n",
    "train.positive = train.positive.apply(correct_spelling)\n",
    "train.negative = train.negative.apply(correct_spelling)\n",
    "\n",
    "test.positive = test.positive.apply(correct_spelling)\n",
    "test.negative = test.negative.apply(correct_spelling)\n",
    "\n",
    "train.position = train.position.apply(correct_spelling)\n",
    "test.position = test.position.apply(correct_spelling)"
   ]
  },
  {
   "cell_type": "code",
   "execution_count": 22,
   "id": "f1f981ec",
   "metadata": {},
   "outputs": [],
   "source": [
    "add_cities = {'могилев-подольский': 30589, \n",
    "              'днепр': 966400,\n",
    "              'мелитополь': 154839,\n",
    "              'хмельницкий':265693,\n",
    "              'северская станица':24867,\n",
    "              'лисаковск':36011,\n",
    "              'курахово':18782,\n",
    "              'семей':320397 ,\n",
    "              'усть-каменогорск':326498,\n",
    "              'тараз':358806,\n",
    "              'нур-султан':1228800,\n",
    "              'одесса':993120,\n",
    "              'кременчуг':219022,\n",
    "              'петергоф':84930,\n",
    "              'кызылорда':242462,\n",
    "              'луцк':213950,\n",
    "              'матвеев-курган':41218,\n",
    "              'староконстантинов':34455,\n",
    "              'динская станица':34848,\n",
    "              'бердянск':113354,\n",
    "              'брест':343985,\n",
    "              'турция':-1,\n",
    "              'ленинградская станица':36940,\n",
    "              'кривой рог':634780,\n",
    "              'бованенково':-1,\n",
    "              'краснодон':42774,\n",
    "              'винница':370834,\n",
    "              'алматы':1977011,\n",
    "              'кировоград':226491 ,\n",
    "              'костанай':237478,\n",
    "              'риддер':48008,\n",
    "              'северодонецк':103479,\n",
    "              'актобе':413918,\n",
    "              'андижан':416243,\n",
    "              'краматорск':157175,\n",
    "              'барановичи':179439,\n",
    "              'тернополь':216384,\n",
    "              'моршин':5754,\n",
    "              'адлер':76534,\n",
    "              'бердичев':74839,\n",
    "              'гомель':508839,\n",
    "              'житомир':266106,\n",
    "              'туркменистан':-1,\n",
    "              'харьков':1443886,\n",
    "              'белая церковь':203816,\n",
    "              'жезказган':87200,\n",
    "              'колумбия':-1,\n",
    "              'армения':-1,\n",
    "              'зеленоград':250173,\n",
    "              'шишкин лес':3913,\n",
    "              'таиланд':-1,\n",
    "              'багамские острова':-1,\n",
    "              'мостиска':9411,\n",
    "              'сестрорецк':43060,\n",
    "              'бишкек':976734,\n",
    "              'скадовск':17640,\n",
    "              'бобруйск':217940,\n",
    "              'чернигов':285821,\n",
    "              'павлоград':108685,\n",
    "              'киев':2954564,\n",
    "              'сарны':29066,\n",
    "              'овруч':15551,\n",
    "              'астара':16130,\n",
    "              'агсу':20100,\n",
    "              'бровары':108349,\n",
    "              'гродно':368710,\n",
    "              'атырау':235314,\n",
    "              'измаил':73500,\n",
    "              'бангладеш':-1,\n",
    "              'светловодск':44466,\n",
    "              'бородянка':12535,\n",
    "              'ужгород':112447,\n",
    "              'кокшетау':163008,\n",
    "              'черновцы':262276,\n",
    "              'великобритания':-1,\n",
    "              'полоцк':80795,\n",
    "              'таджикистан':-1,\n",
    "              'чехия':-1,\n",
    "              'могилев':357100,\n",
    "              'талдыкорган':144504,\n",
    "              'солёное':7487,\n",
    "              'кронштадт':44353,\n",
    "              'славянск':111084,\n",
    "              'смела':66972,\n",
    "              'баку':2236000,\n",
    "              'шымкент':932235,\n",
    "              'зайсан':14389,\n",
    "              'сабетта':22000,\n",
    "              'кандыагаш':29169,\n",
    "              'брюховецкая станица':22139,\n",
    "              'лида':101165 }\n",
    "\n",
    "features_to_sum = ['population', 'children']\n",
    "for feature in features_to_sum:\n",
    "    cities = pd.read_csv(\"data/cities.csv\")\n",
    "    cities = cities[['settlement', feature]]\n",
    "    cities = cities.groupby('settlement').sum()\n",
    "    cities.reset_index(level=0, inplace=True)\n",
    "    cities_to_feature = dict(zip(cities.settlement, cities[feature]))\n",
    "    f = lambda e: cities_to_feature[str(e).strip()] if str(e).strip() in cities_to_feature else -1\n",
    "    train[feature] = train.city.apply(f)\n",
    "    test[feature] = test.city.apply(f)\n",
    "    \n",
    "    if feature == 'population':\n",
    "        add_cities_f = lambda e: add_cities[str(e).strip().lower()] if f(e) == -1 and str(e).strip().lower() in add_cities else f(e)\n",
    "        train['population'] = train.city.apply(add_cities_f)\n",
    "        test['population'] = test.city.apply(add_cities_f)"
   ]
  },
  {
   "cell_type": "code",
   "execution_count": 24,
   "id": "40bdcd2c",
   "metadata": {},
   "outputs": [],
   "source": [
    "features_to_avg = ['latitude_dd', 'longitude_dd']\n",
    "for feature in features_to_avg:\n",
    "    cities = pd.read_csv(\"data/cities.csv\")\n",
    "    cities = cities[['settlement', feature]]\n",
    "    cities = cities.groupby('settlement').mean()\n",
    "    cities.reset_index(level=0, inplace=True)\n",
    "    cities_to_feature = dict(zip(cities.settlement, cities[feature]))\n",
    "    f = lambda e: cities_to_feature[str(e).strip()] if str(e).strip() in cities_to_feature else -1\n",
    "    train[feature] = train.city.apply(f)\n",
    "    test[feature] = test.city.apply(f)"
   ]
  },
  {
   "cell_type": "code",
   "execution_count": 25,
   "id": "076bf639",
   "metadata": {},
   "outputs": [],
   "source": [
    "train[\"positive_len\"] = train.positive.apply(len)\n",
    "train[\"negative_len\"] = train.negative.apply(len)\n",
    "train[\"position_len\"] = train.position.apply(len)"
   ]
  },
  {
   "cell_type": "code",
   "execution_count": 26,
   "id": "63d6e27b",
   "metadata": {},
   "outputs": [],
   "source": [
    "test[\"positive_len\"] = test.positive.apply(len)\n",
    "test[\"negative_len\"] = test.negative.apply(len)\n",
    "test[\"position_len\"] = test.position.apply(len)"
   ]
  },
  {
   "cell_type": "code",
   "execution_count": 27,
   "id": "c3189cdf",
   "metadata": {},
   "outputs": [],
   "source": [
    "from collections import Counter\n",
    "\n",
    "k = 50\n",
    "top_k_words_for_cls = dict()\n",
    "for label in range(9):\n",
    "    idxs = [str(label) in s for s in train['target']]\n",
    "    counter = Counter(' '.join(train[idxs].position).split())\n",
    "    top_k_words_for_cls[label] = list(sorted(counter.items(), key=lambda e: -e[1]))[:k]"
   ]
  },
  {
   "cell_type": "code",
   "execution_count": 28,
   "id": "0cfa1af5",
   "metadata": {},
   "outputs": [
    {
     "data": {
      "text/plain": [
       "7463                               удаленный формат работа\n",
       "10174    прочитывать отзыв сотрудник компания работодат...\n",
       "13299                 возможность работать дом офис предел\n",
       "14264    заинтересовывать вакансия компания немного сму...\n",
       "19978                        стабильность доверие компания\n",
       "21763    work life balance возможность работать удаленн...\n",
       "22731    работать мерчандайзер num num год недавно увол...\n",
       "27201    добрый время сутки хотеться обращаться лично н...\n",
       "27351    наверно жизнь отставать понимать почему недово...\n",
       "30570                                 свобода выбор график\n",
       "49725    собеседование проходить легко хотя волноваться...\n",
       "50154    работать компания num год очень нравиться пони...\n",
       "50396    оплачиваться весь переработка праздничный день...\n",
       "Name: positive, dtype: object"
      ]
     },
     "execution_count": 28,
     "metadata": {},
     "output_type": "execute_result"
    }
   ],
   "source": [
    "label = 2\n",
    "idxs = [str(label) in s for s in train['target']]\n",
    "train[idxs].positive"
   ]
  },
  {
   "cell_type": "code",
   "execution_count": 29,
   "id": "ceacb9ae",
   "metadata": {},
   "outputs": [
    {
     "data": {
      "text/plain": [
       "7463     коммуникация отдел кадры непонятный ситуация т...\n",
       "10174    хотеться лишний выходной ... это наверное везд...\n",
       "13299                               коммуникация сотрудник\n",
       "14264    пока устраивать далеко видно мочь находиться н...\n",
       "19978    увеличивать количество персонал магазин очень ...\n",
       "21763    возобновлять совместный выездной встреча коман...\n",
       "22731    прорабатывать num num год находить минус хотя ...\n",
       "27201    многое устраивать сравнивать ... достойный орг...\n",
       "27351    далеко ехать работа это суть проблема многий р...\n",
       "30570                   зарплата нагрузка рабочий персонал\n",
       "49725    отзыв сотрудник компания часто читать ладиться...\n",
       "50154    корпоративный мероприятие итак хотеться провож...\n",
       "50396    одноименный группа вк подслушивать компания от...\n",
       "Name: negative, dtype: object"
      ]
     },
     "execution_count": 29,
     "metadata": {},
     "output_type": "execute_result"
    }
   ],
   "source": [
    "train[idxs].negative"
   ]
  },
  {
   "cell_type": "code",
   "execution_count": 30,
   "id": "3bde7eba",
   "metadata": {},
   "outputs": [
    {
     "data": {
      "text/plain": [
       "7463             кредитный инспектор\n",
       "10174                            nan\n",
       "13299         специалист страхование\n",
       "14264                            nan\n",
       "19978    территориальный управляющий\n",
       "21763                       рекрутер\n",
       "22731                   мерчандайзер\n",
       "27201            консультант эксперт\n",
       "27351                            nan\n",
       "30570       специалист контакт центр\n",
       "49725                            nan\n",
       "50154                       провизор\n",
       "50396             специалист продажа\n",
       "Name: position, dtype: object"
      ]
     },
     "execution_count": 30,
     "metadata": {},
     "output_type": "execute_result"
    }
   ],
   "source": [
    "train[idxs].position"
   ]
  },
  {
   "cell_type": "code",
   "execution_count": 31,
   "id": "5c306033",
   "metadata": {},
   "outputs": [],
   "source": [
    "terms = ['gmail', 'commarystarkova', 'ссылка', 'адрес']\n",
    "for term in terms:\n",
    "    train[\"positive_contains_\" + term] = train.positive.apply(lambda e: int(term in e))\n",
    "    train[\"negative_contains_\" + term] = train.negative.apply(lambda e: int(term in e))\n",
    "    \n",
    "    test[\"positive_contains_\" + term] = test.positive.apply(lambda e: int(term in e))\n",
    "    test[\"negative_contains_\" + term] = test.negative.apply(lambda e: int(term in e))    "
   ]
  },
  {
   "cell_type": "code",
   "execution_count": 51,
   "id": "32810721",
   "metadata": {},
   "outputs": [
    {
     "name": "stderr",
     "output_type": "stream",
     "text": [
      "50876it [21:11, 40.01it/s] \n"
     ]
    }
   ],
   "source": [
    "from tqdm import tqdm\n",
    "train_leven = list()\n",
    "for pair in tqdm(zip(train.positive, train.negative)):\n",
    "    train_leven.append(nltk.edit_distance(pair[0], pair[1]))"
   ]
  },
  {
   "cell_type": "code",
   "execution_count": 52,
   "id": "d08d8435",
   "metadata": {},
   "outputs": [
    {
     "name": "stderr",
     "output_type": "stream",
     "text": [
      "31245it [11:17, 47.85it/s] IOPub message rate exceeded.\n",
      "The notebook server will temporarily stop sending output\n",
      "to the client in order to avoid crashing it.\n",
      "To change this limit, set the config variable\n",
      "`--NotebookApp.iopub_msg_rate_limit`.\n",
      "\n",
      "Current values:\n",
      "NotebookApp.iopub_msg_rate_limit=1000.0 (msgs/sec)\n",
      "NotebookApp.rate_limit_window=3.0 (secs)\n",
      "\n",
      "50651it [17:20, 48.70it/s]\n"
     ]
    }
   ],
   "source": [
    "test_leven = list()\n",
    "for pair in tqdm(zip(test.positive, test.negative)):\n",
    "    test_leven.append(nltk.edit_distance(pair[0], pair[1]))"
   ]
  },
  {
   "cell_type": "code",
   "execution_count": 53,
   "id": "c8918d76",
   "metadata": {},
   "outputs": [],
   "source": [
    "train[\"edit_d\"] = train_leven\n",
    "test[\"edit_d\"] = test_leven"
   ]
  },
  {
   "cell_type": "code",
   "execution_count": null,
   "id": "c3017a0e",
   "metadata": {},
   "outputs": [],
   "source": [
    "from dostoevsky.tokenization import RegexTokenizer\n",
    "from dostoevsky.models import FastTextSocialNetworkModel\n",
    "\n",
    "tokenizer = RegexTokenizer()\n",
    "model = FastTextSocialNetworkModel(tokenizer=tokenizer)"
   ]
  },
  {
   "cell_type": "code",
   "execution_count": null,
   "id": "9a4e2092",
   "metadata": {},
   "outputs": [],
   "source": [
    "messages = train.negative.tolist()\n",
    "results = model.predict(messages, k=5)\n",
    "for feature in ['neutral', 'skip', 'negative', 'positive', 'speech']:\n",
    "    l = list()\n",
    "    for result in results:\n",
    "        l.append(result[feature])\n",
    "    train['negative_dost:' + feature] = l"
   ]
  },
  {
   "cell_type": "code",
   "execution_count": null,
   "id": "25ca0b2e",
   "metadata": {},
   "outputs": [],
   "source": [
    "messages = train.positive.tolist()\n",
    "results = model.predict(messages, k=5)\n",
    "for feature in ['neutral', 'skip', 'negative', 'positive', 'speech']:\n",
    "    l = list()\n",
    "    for result in results:\n",
    "        l.append(result[feature])\n",
    "    train['positive_dost:' + feature] = l"
   ]
  },
  {
   "cell_type": "code",
   "execution_count": null,
   "id": "de5fe25b",
   "metadata": {},
   "outputs": [],
   "source": [
    "messages = test.negative.tolist()\n",
    "results = model.predict(messages, k=5)\n",
    "for feature in ['neutral', 'skip', 'negative', 'positive', 'speech']:\n",
    "    l = list()\n",
    "    for result in results:\n",
    "        l.append(result[feature])\n",
    "    test['negative_dost:' + feature] = l"
   ]
  },
  {
   "cell_type": "code",
   "execution_count": null,
   "id": "1df21254",
   "metadata": {},
   "outputs": [],
   "source": [
    "messages = test.positive.tolist()\n",
    "results = model.predict(messages, k=5)\n",
    "for feature in ['neutral', 'skip', 'negative', 'positive', 'speech']:\n",
    "    l = list()\n",
    "    for result in results:\n",
    "        l.append(result[feature])\n",
    "    test['positive_dost:' + feature] = l"
   ]
  },
  {
   "cell_type": "code",
   "execution_count": null,
   "id": "4ca8ee07",
   "metadata": {},
   "outputs": [],
   "source": [
    "train.to_csv('data/HeadHunter_train_prep.csv', index=False)\n",
    "test.to_csv('data/HeadHunter_test_prep.csv', index=False)"
   ]
  },
  {
   "cell_type": "code",
   "execution_count": null,
   "id": "76fe37ec",
   "metadata": {},
   "outputs": [],
   "source": []
  }
 ],
 "metadata": {
  "kernelspec": {
   "display_name": "Python 3 (ipykernel)",
   "language": "python",
   "name": "python3"
  },
  "language_info": {
   "codemirror_mode": {
    "name": "ipython",
    "version": 3
   },
   "file_extension": ".py",
   "mimetype": "text/x-python",
   "name": "python",
   "nbconvert_exporter": "python",
   "pygments_lexer": "ipython3",
   "version": "3.8.10"
  }
 },
 "nbformat": 4,
 "nbformat_minor": 5
}
